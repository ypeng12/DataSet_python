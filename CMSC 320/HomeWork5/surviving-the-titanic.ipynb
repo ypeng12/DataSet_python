{
 "cells": [
  {
   "cell_type": "markdown",
   "id": "99a27703",
   "metadata": {
    "papermill": {
     "duration": 0.02283,
     "end_time": "2023-04-25T09:44:21.139406",
     "exception": false,
     "start_time": "2023-04-25T09:44:21.116576",
     "status": "completed"
    },
    "tags": []
   },
   "source": [
    "<html>\n",
    "    <body style=\"background-color: red\">\n",
    "        <h1>Surviving the Titanic: A Machine Learning Approach to Predicting Passenger Survival</h1>\n",
    "        <h2>Table of Contents</h2>\n",
    "        <ol>\n",
    "            <a href=\"#section1\"><li>Importing libraries and loading the dataset</li></a>\n",
    "            <a href=\"#section2\"><li>Exploring the dataset</li></a>\n",
    "            <a href=\"#section3\"><li>Data cleaning</li></a>\n",
    "            <a href=\"#section4\"><li>Exploratory data analysis</li></a>\n",
    "            <ol>\n",
    "                <a href=\"#sub_section1_1\"><li type=\"i\">Univariate analysis</li></a>\n",
    "                <a href=\"#sub_section1_2\"><li type=\"i\">Bivariate analysis</li></a>\n",
    "            </ol>        \n",
    "            <a href=\"#section5\"><li>Data Prepocessing</li></a>\n",
    "            <a href=\"#section6\"><li>Model Building and Evaluation</li></a>\n",
    "            <ol>\n",
    "                <a href=\"#sub_section2_1\"><li type=\"i\">KNN Classifier</li></a>\n",
    "                <a href=\"#sub_section2_2\"><li type=\"i\">Logistic Regreassion</li></a>\n",
    "                <a href=\"#sub_section2_3\"><li type=\"i\">Decision Tree Classifier</li></a>\n",
    "                <a href=\"#sub_section2_4\"><li type=\"i\">MPLC Classifier</li></a>\n",
    "            </ol> \n",
    "    </body>\n",
    "</html>"
   ]
  },
  {
   "cell_type": "markdown",
   "id": "6a56299a",
   "metadata": {
    "papermill": {
     "duration": 0.022848,
     "end_time": "2023-04-25T09:44:21.183778",
     "exception": false,
     "start_time": "2023-04-25T09:44:21.160930",
     "status": "completed"
    },
    "tags": []
   },
   "source": [
    "<h3 id=\"section1\">1. Importing libraries and loading the dataset</h3>\n",
    "<p>Let's start by importing the necessary libraries and loading the dataset.</p>"
   ]
  },
  {
   "cell_type": "code",
   "execution_count": null,
   "id": "9f841b7b",
   "metadata": {
    "execution": {
     "iopub.execute_input": "2023-04-25T09:44:21.229041Z",
     "iopub.status.busy": "2023-04-25T09:44:21.228584Z",
     "iopub.status.idle": "2023-04-25T09:44:22.419052Z",
     "shell.execute_reply": "2023-04-25T09:44:22.417926Z"
    },
    "papermill": {
     "duration": 1.216146,
     "end_time": "2023-04-25T09:44:22.422231",
     "exception": false,
     "start_time": "2023-04-25T09:44:21.206085",
     "status": "completed"
    },
    "tags": []
   },
   "outputs": [],
   "source": [
    "import pandas as pd\n",
    "import numpy as np\n",
    "import seaborn as sns\n",
    "import matplotlib.pyplot as plt\n",
    "from tabulate import tabulate\n",
    "import warnings\n",
    "\n",
    "color = sns.color_palette()\n",
    "\n",
    "%matplotlib inline\n",
    "\n",
    "pd.options.mode.chained_assignment = None\n",
    "pd.options.display.max_columns = 999\n",
    "\n",
    "warnings.filterwarnings(action = 'ignore')\n"
   ]
  },
  {
   "cell_type": "code",
   "execution_count": null,
   "id": "8bde77e7",
   "metadata": {
    "execution": {
     "iopub.execute_input": "2023-04-25T09:44:22.467794Z",
     "iopub.status.busy": "2023-04-25T09:44:22.466979Z",
     "iopub.status.idle": "2023-04-25T09:44:22.501412Z",
     "shell.execute_reply": "2023-04-25T09:44:22.500280Z"
    },
    "papermill": {
     "duration": 0.059877,
     "end_time": "2023-04-25T09:44:22.504271",
     "exception": false,
     "start_time": "2023-04-25T09:44:22.444394",
     "status": "completed"
    },
    "tags": []
   },
   "outputs": [],
   "source": [
    "# Read the data\n",
    "df_train = pd.read_csv('train.csv')\n",
    "df_test = pd.read_csv('test.csv')\n",
    "df_submission  = pd.read_csv('gender_submission.csv')"
   ]
  },
  {
   "cell_type": "markdown",
   "id": "af0e56ef",
   "metadata": {
    "papermill": {
     "duration": 0.020605,
     "end_time": "2023-04-25T09:44:22.546356",
     "exception": false,
     "start_time": "2023-04-25T09:44:22.525751",
     "status": "completed"
    },
    "tags": []
   },
   "source": [
    "<h3 id=\"section2\">2. Exploring the dataset</h3>\n",
    "<p>Let's explore the datasets:</p>"
   ]
  },
  {
   "cell_type": "code",
   "execution_count": null,
   "id": "5140ca70",
   "metadata": {
    "execution": {
     "iopub.execute_input": "2023-04-25T09:44:22.590928Z",
     "iopub.status.busy": "2023-04-25T09:44:22.590518Z",
     "iopub.status.idle": "2023-04-25T09:44:22.596659Z",
     "shell.execute_reply": "2023-04-25T09:44:22.595519Z"
    },
    "papermill": {
     "duration": 0.032647,
     "end_time": "2023-04-25T09:44:22.600266",
     "exception": false,
     "start_time": "2023-04-25T09:44:22.567619",
     "status": "completed"
    },
    "tags": []
   },
   "outputs": [],
   "source": [
    "# Shape of the data\n",
    "print('Shape of the train data: %s', df_train.shape)\n",
    "print('Shape of the test data: %s', df_test.shape)\n",
    "print('Shape of the submission data: %s', df_submission.shape)"
   ]
  },
  {
   "cell_type": "code",
   "execution_count": null,
   "id": "2da7b9b0",
   "metadata": {
    "execution": {
     "iopub.execute_input": "2023-04-25T09:44:22.645743Z",
     "iopub.status.busy": "2023-04-25T09:44:22.645357Z",
     "iopub.status.idle": "2023-04-25T09:44:22.677053Z",
     "shell.execute_reply": "2023-04-25T09:44:22.675787Z"
    },
    "papermill": {
     "duration": 0.057586,
     "end_time": "2023-04-25T09:44:22.679640",
     "exception": false,
     "start_time": "2023-04-25T09:44:22.622054",
     "status": "completed"
    },
    "tags": []
   },
   "outputs": [],
   "source": [
    "# Sample train data\n",
    "df_train.head()"
   ]
  },
  {
   "cell_type": "code",
   "execution_count": null,
   "id": "08a989c3",
   "metadata": {
    "execution": {
     "iopub.execute_input": "2023-04-25T09:44:22.725569Z",
     "iopub.status.busy": "2023-04-25T09:44:22.725150Z",
     "iopub.status.idle": "2023-04-25T09:44:22.742533Z",
     "shell.execute_reply": "2023-04-25T09:44:22.741200Z"
    },
    "papermill": {
     "duration": 0.043684,
     "end_time": "2023-04-25T09:44:22.745103",
     "exception": false,
     "start_time": "2023-04-25T09:44:22.701419",
     "status": "completed"
    },
    "tags": []
   },
   "outputs": [],
   "source": [
    "# Smaple of test data\n",
    "df_test.head()"
   ]
  },
  {
   "cell_type": "code",
   "execution_count": null,
   "id": "9ce4a14b",
   "metadata": {
    "execution": {
     "iopub.execute_input": "2023-04-25T09:44:22.791448Z",
     "iopub.status.busy": "2023-04-25T09:44:22.791038Z",
     "iopub.status.idle": "2023-04-25T09:44:22.800841Z",
     "shell.execute_reply": "2023-04-25T09:44:22.799678Z"
    },
    "papermill": {
     "duration": 0.035607,
     "end_time": "2023-04-25T09:44:22.803159",
     "exception": false,
     "start_time": "2023-04-25T09:44:22.767552",
     "status": "completed"
    },
    "tags": []
   },
   "outputs": [],
   "source": [
    "# Sample submission data\n",
    "df_submission.head()"
   ]
  },
  {
   "cell_type": "markdown",
   "id": "bb351ecd",
   "metadata": {
    "papermill": {
     "duration": 0.021772,
     "end_time": "2023-04-25T09:44:22.847414",
     "exception": false,
     "start_time": "2023-04-25T09:44:22.825642",
     "status": "completed"
    },
    "tags": []
   },
   "source": [
    "<p>Let's explore the train dataset to get a better understanding of its structure and content:</p>"
   ]
  },
  {
   "cell_type": "code",
   "execution_count": null,
   "id": "06d8e760",
   "metadata": {
    "execution": {
     "iopub.execute_input": "2023-04-25T09:44:22.892850Z",
     "iopub.status.busy": "2023-04-25T09:44:22.892396Z",
     "iopub.status.idle": "2023-04-25T09:44:22.901288Z",
     "shell.execute_reply": "2023-04-25T09:44:22.900104Z"
    },
    "papermill": {
     "duration": 0.034487,
     "end_time": "2023-04-25T09:44:22.903872",
     "exception": false,
     "start_time": "2023-04-25T09:44:22.869385",
     "status": "completed"
    },
    "tags": []
   },
   "outputs": [],
   "source": [
    "# Data types\n",
    "df_train.dtypes"
   ]
  },
  {
   "cell_type": "code",
   "execution_count": null,
   "id": "6d6d6715",
   "metadata": {
    "execution": {
     "iopub.execute_input": "2023-04-25T09:44:22.950430Z",
     "iopub.status.busy": "2023-04-25T09:44:22.949581Z",
     "iopub.status.idle": "2023-04-25T09:44:22.992338Z",
     "shell.execute_reply": "2023-04-25T09:44:22.990993Z"
    },
    "papermill": {
     "duration": 0.068703,
     "end_time": "2023-04-25T09:44:22.994950",
     "exception": false,
     "start_time": "2023-04-25T09:44:22.926247",
     "status": "completed"
    },
    "tags": []
   },
   "outputs": [],
   "source": [
    "# Summary statistics\n",
    "df_train.describe()"
   ]
  },
  {
   "cell_type": "code",
   "execution_count": null,
   "id": "9695bec1",
   "metadata": {
    "execution": {
     "iopub.execute_input": "2023-04-25T09:44:23.041219Z",
     "iopub.status.busy": "2023-04-25T09:44:23.040769Z",
     "iopub.status.idle": "2023-04-25T09:44:23.055527Z",
     "shell.execute_reply": "2023-04-25T09:44:23.054503Z"
    },
    "papermill": {
     "duration": 0.040565,
     "end_time": "2023-04-25T09:44:23.057702",
     "exception": false,
     "start_time": "2023-04-25T09:44:23.017137",
     "status": "completed"
    },
    "tags": []
   },
   "outputs": [],
   "source": [
    "# Unique values in each column\n",
    "df_train.nunique()"
   ]
  },
  {
   "cell_type": "markdown",
   "id": "bb0b7e1b",
   "metadata": {
    "papermill": {
     "duration": 0.022769,
     "end_time": "2023-04-25T09:44:23.103118",
     "exception": false,
     "start_time": "2023-04-25T09:44:23.080349",
     "status": "completed"
    },
    "tags": []
   },
   "source": [
    "<h3 id=\"section3\">3. Data cleaning</h3>\n",
    "<p>Nice! We have a dataset with <b>891</b> rows and <b>12</b> columns. Let's clean the dataset by handling missing values, duplicates, irrelevant columns, and converting data types.</p>"
   ]
  },
  {
   "cell_type": "code",
   "execution_count": null,
   "id": "ce074cd3",
   "metadata": {
    "execution": {
     "iopub.execute_input": "2023-04-25T09:44:23.149513Z",
     "iopub.status.busy": "2023-04-25T09:44:23.149133Z",
     "iopub.status.idle": "2023-04-25T09:44:23.154381Z",
     "shell.execute_reply": "2023-04-25T09:44:23.153131Z"
    },
    "papermill": {
     "duration": 0.031361,
     "end_time": "2023-04-25T09:44:23.156660",
     "exception": false,
     "start_time": "2023-04-25T09:44:23.125299",
     "status": "completed"
    },
    "tags": []
   },
   "outputs": [],
   "source": [
    "# Let's create a copy of the train and test data to perform data cleaning\n",
    "df_train_copy = df_train.copy()\n",
    "df_test_copy = df_test.copy()"
   ]
  },
  {
   "cell_type": "code",
   "execution_count": null,
   "id": "516b0bd6",
   "metadata": {
    "execution": {
     "iopub.execute_input": "2023-04-25T09:44:23.203709Z",
     "iopub.status.busy": "2023-04-25T09:44:23.203309Z",
     "iopub.status.idle": "2023-04-25T09:44:23.213246Z",
     "shell.execute_reply": "2023-04-25T09:44:23.211967Z"
    },
    "papermill": {
     "duration": 0.036161,
     "end_time": "2023-04-25T09:44:23.215506",
     "exception": false,
     "start_time": "2023-04-25T09:44:23.179345",
     "status": "completed"
    },
    "tags": []
   },
   "outputs": [],
   "source": [
    "# Missing values in train data\n",
    "df_train_copy.isna().sum()"
   ]
  },
  {
   "cell_type": "code",
   "execution_count": null,
   "id": "adcaf0ae",
   "metadata": {
    "execution": {
     "iopub.execute_input": "2023-04-25T09:44:23.262296Z",
     "iopub.status.busy": "2023-04-25T09:44:23.261874Z",
     "iopub.status.idle": "2023-04-25T09:44:23.269885Z",
     "shell.execute_reply": "2023-04-25T09:44:23.269008Z"
    },
    "papermill": {
     "duration": 0.034327,
     "end_time": "2023-04-25T09:44:23.272132",
     "exception": false,
     "start_time": "2023-04-25T09:44:23.237805",
     "status": "completed"
    },
    "tags": []
   },
   "outputs": [],
   "source": [
    "# Missing values in test data\n",
    "df_test_copy.isna().sum()"
   ]
  },
  {
   "cell_type": "markdown",
   "id": "760d6768",
   "metadata": {
    "papermill": {
     "duration": 0.022081,
     "end_time": "2023-04-25T09:44:23.316533",
     "exception": false,
     "start_time": "2023-04-25T09:44:23.294452",
     "status": "completed"
    },
    "tags": []
   },
   "source": [
    "<p>We have ver high number of missing values in <b>Cabin</b> followed by <b>Age</b> and just 2 in <b>Embarked</b> column.</p>\n",
    "<p>Lets impute missing values in <b>Age</b> column by median and <b>Embarked</b> column by mode.</p>"
   ]
  },
  {
   "cell_type": "code",
   "execution_count": null,
   "id": "1b808f4a",
   "metadata": {
    "execution": {
     "iopub.execute_input": "2023-04-25T09:44:23.363373Z",
     "iopub.status.busy": "2023-04-25T09:44:23.362975Z",
     "iopub.status.idle": "2023-04-25T09:44:23.373520Z",
     "shell.execute_reply": "2023-04-25T09:44:23.372315Z"
    },
    "papermill": {
     "duration": 0.036993,
     "end_time": "2023-04-25T09:44:23.376060",
     "exception": false,
     "start_time": "2023-04-25T09:44:23.339067",
     "status": "completed"
    },
    "tags": []
   },
   "outputs": [],
   "source": [
    "# Impute missing values in Age column with median\n",
    "df_train_copy['Age'] = df_train_copy['Age'].fillna(df_train_copy['Age'].median())\n",
    "df_test_copy['Age'] = df_test_copy['Age'].fillna(df_test_copy['Age'].median())\n",
    "\n",
    "# Impute missing values in Embarked column with mode\n",
    "df_train_copy['Embarked'] = df_train_copy['Embarked'].fillna(df_train_copy['Embarked'].mode()[0])\n",
    "df_test_copy['Embarked'] = df_test_copy['Embarked'].fillna(df_test_copy['Embarked'].mode()[0])\n"
   ]
  },
  {
   "cell_type": "markdown",
   "id": "375986b4",
   "metadata": {
    "papermill": {
     "duration": 0.022928,
     "end_time": "2023-04-25T09:44:23.421956",
     "exception": false,
     "start_time": "2023-04-25T09:44:23.399028",
     "status": "completed"
    },
    "tags": []
   },
   "source": [
    "<p>Here empty values in <b>Cabin</b> column may indicate that passenger didn't have a cabin. So we can explore further if emplty values in cabin has relation with Survived</p>"
   ]
  },
  {
   "cell_type": "code",
   "execution_count": null,
   "id": "3c266564",
   "metadata": {
    "execution": {
     "iopub.execute_input": "2023-04-25T09:44:23.469235Z",
     "iopub.status.busy": "2023-04-25T09:44:23.468807Z",
     "iopub.status.idle": "2023-04-25T09:44:23.479039Z",
     "shell.execute_reply": "2023-04-25T09:44:23.477981Z"
    },
    "papermill": {
     "duration": 0.036895,
     "end_time": "2023-04-25T09:44:23.481483",
     "exception": false,
     "start_time": "2023-04-25T09:44:23.444588",
     "status": "completed"
    },
    "tags": []
   },
   "outputs": [],
   "source": [
    "# Check if there is any relations between the missing values in Cabin column and Survived column\n",
    "df_train_copy[df_train_copy['Cabin'].isna()]['Survived'].value_counts()"
   ]
  },
  {
   "cell_type": "markdown",
   "id": "c0db353b",
   "metadata": {
    "papermill": {
     "duration": 0.022479,
     "end_time": "2023-04-25T09:44:23.526931",
     "exception": false,
     "start_time": "2023-04-25T09:44:23.504452",
     "status": "completed"
    },
    "tags": []
   },
   "source": [
    "<p>We can clearly see that passengers with empty values in <b>Cabin</b> column have less chance of survival. So we can impute empty values in <b>Cabin</b> column with <b>Missing</b>.</p>"
   ]
  },
  {
   "cell_type": "code",
   "execution_count": null,
   "id": "dcbbb1b9",
   "metadata": {
    "execution": {
     "iopub.execute_input": "2023-04-25T09:44:23.574459Z",
     "iopub.status.busy": "2023-04-25T09:44:23.574059Z",
     "iopub.status.idle": "2023-04-25T09:44:23.581072Z",
     "shell.execute_reply": "2023-04-25T09:44:23.579729Z"
    },
    "papermill": {
     "duration": 0.033827,
     "end_time": "2023-04-25T09:44:23.583561",
     "exception": false,
     "start_time": "2023-04-25T09:44:23.549734",
     "status": "completed"
    },
    "tags": []
   },
   "outputs": [],
   "source": [
    "# Impute missing values in Cabin column with 'Missing'\n",
    "df_train_copy['Cabin'] = df_train_copy['Cabin'].fillna('Missing')\n",
    "df_test_copy['Cabin'] = df_test_copy['Cabin'].fillna('Missing')"
   ]
  },
  {
   "cell_type": "code",
   "execution_count": null,
   "id": "954901aa",
   "metadata": {
    "execution": {
     "iopub.execute_input": "2023-04-25T09:44:23.631554Z",
     "iopub.status.busy": "2023-04-25T09:44:23.631171Z",
     "iopub.status.idle": "2023-04-25T09:44:23.641650Z",
     "shell.execute_reply": "2023-04-25T09:44:23.640771Z"
    },
    "papermill": {
     "duration": 0.037536,
     "end_time": "2023-04-25T09:44:23.643952",
     "exception": false,
     "start_time": "2023-04-25T09:44:23.606416",
     "status": "completed"
    },
    "tags": []
   },
   "outputs": [],
   "source": [
    "# Let see if we still have any missing values in the train data\n",
    "df_train_copy.isna().sum()"
   ]
  },
  {
   "cell_type": "code",
   "execution_count": null,
   "id": "0e833731",
   "metadata": {
    "execution": {
     "iopub.execute_input": "2023-04-25T09:44:23.692039Z",
     "iopub.status.busy": "2023-04-25T09:44:23.691622Z",
     "iopub.status.idle": "2023-04-25T09:44:23.701955Z",
     "shell.execute_reply": "2023-04-25T09:44:23.701010Z"
    },
    "papermill": {
     "duration": 0.036968,
     "end_time": "2023-04-25T09:44:23.704236",
     "exception": false,
     "start_time": "2023-04-25T09:44:23.667268",
     "status": "completed"
    },
    "tags": []
   },
   "outputs": [],
   "source": [
    "# Imputing missing values in Fare column with median in test data\n",
    "df_test_copy['Fare'] = df_test_copy['Fare'].fillna(df_test_copy['Fare'].median())\n",
    "\n",
    "# Let see if we still have any missing values in test data\n",
    "df_test_copy.isna().sum()"
   ]
  },
  {
   "cell_type": "code",
   "execution_count": null,
   "id": "46601194",
   "metadata": {
    "execution": {
     "iopub.execute_input": "2023-04-25T09:44:23.752194Z",
     "iopub.status.busy": "2023-04-25T09:44:23.751450Z",
     "iopub.status.idle": "2023-04-25T09:44:23.762641Z",
     "shell.execute_reply": "2023-04-25T09:44:23.761837Z"
    },
    "papermill": {
     "duration": 0.037783,
     "end_time": "2023-04-25T09:44:23.764807",
     "exception": false,
     "start_time": "2023-04-25T09:44:23.727024",
     "status": "completed"
    },
    "tags": []
   },
   "outputs": [],
   "source": [
    "# Check for duplicates in train data\n",
    "df_train_copy.duplicated().sum()"
   ]
  },
  {
   "cell_type": "code",
   "execution_count": null,
   "id": "9b5850e6",
   "metadata": {
    "execution": {
     "iopub.execute_input": "2023-04-25T09:44:23.814885Z",
     "iopub.status.busy": "2023-04-25T09:44:23.814174Z",
     "iopub.status.idle": "2023-04-25T09:44:23.823668Z",
     "shell.execute_reply": "2023-04-25T09:44:23.822733Z"
    },
    "papermill": {
     "duration": 0.037853,
     "end_time": "2023-04-25T09:44:23.825838",
     "exception": false,
     "start_time": "2023-04-25T09:44:23.787985",
     "status": "completed"
    },
    "tags": []
   },
   "outputs": [],
   "source": [
    "# Check for duplicates in test data\n",
    "df_test_copy.duplicated().sum()"
   ]
  },
  {
   "cell_type": "markdown",
   "id": "222e9c94",
   "metadata": {
    "papermill": {
     "duration": 0.023255,
     "end_time": "2023-04-25T09:44:23.872250",
     "exception": false,
     "start_time": "2023-04-25T09:44:23.848995",
     "status": "completed"
    },
    "tags": []
   },
   "source": [
    "<p>No duplicates in the dataset! Let's move on to the next step.</p>"
   ]
  },
  {
   "cell_type": "markdown",
   "id": "1ea41d5f",
   "metadata": {
    "papermill": {
     "duration": 0.023182,
     "end_time": "2023-04-25T09:44:23.919748",
     "exception": false,
     "start_time": "2023-04-25T09:44:23.896566",
     "status": "completed"
    },
    "tags": []
   },
   "source": [
    "<p>Let's convert Survived, Pclass, Sex, SibSp, Parch, and Embarked to categorical variables.</p>"
   ]
  },
  {
   "cell_type": "code",
   "execution_count": null,
   "id": "4c814857",
   "metadata": {
    "execution": {
     "iopub.execute_input": "2023-04-25T09:44:23.969529Z",
     "iopub.status.busy": "2023-04-25T09:44:23.969081Z",
     "iopub.status.idle": "2023-04-25T09:44:23.987349Z",
     "shell.execute_reply": "2023-04-25T09:44:23.986027Z"
    },
    "papermill": {
     "duration": 0.04681,
     "end_time": "2023-04-25T09:44:23.990268",
     "exception": false,
     "start_time": "2023-04-25T09:44:23.943458",
     "status": "completed"
    },
    "tags": []
   },
   "outputs": [],
   "source": [
    "# Convert Name, Survived, Pclass, Sex, SibSp, Parch, Embarked, Ticket, Cabin to categorical variables in train data\n",
    "df_train_copy['Survived'] = df_train_copy['Survived'].astype('category')\n",
    "df_train_copy['Pclass'] = df_train_copy['Pclass'].astype('category')\n",
    "df_train_copy['Sex'] = df_train_copy['Sex'].astype('category')\n",
    "df_train_copy['SibSp'] = df_train_copy['SibSp'].astype('category')\n",
    "df_train_copy['Parch'] = df_train_copy['Parch'].astype('category')\n",
    "df_train_copy['Embarked'] = df_train_copy['Embarked'].astype('category')\n",
    "df_train_copy['Ticket'] = df_train_copy['Ticket'].astype('category')\n",
    "df_train_copy['Cabin'] = df_train_copy['Cabin'].astype('category')\n",
    "df_train_copy['Name'] = df_train_copy['Name'].astype('category')\n"
   ]
  },
  {
   "cell_type": "code",
   "execution_count": null,
   "id": "4a081343",
   "metadata": {
    "execution": {
     "iopub.execute_input": "2023-04-25T09:44:24.041807Z",
     "iopub.status.busy": "2023-04-25T09:44:24.040551Z",
     "iopub.status.idle": "2023-04-25T09:44:24.056040Z",
     "shell.execute_reply": "2023-04-25T09:44:24.055123Z"
    },
    "papermill": {
     "duration": 0.04368,
     "end_time": "2023-04-25T09:44:24.058677",
     "exception": false,
     "start_time": "2023-04-25T09:44:24.014997",
     "status": "completed"
    },
    "tags": []
   },
   "outputs": [],
   "source": [
    "# Convert Name, Pclass, Sex, SibSp, Parch, Embarked, Ticket, Cabin to categorical variables in test data\n",
    "df_test_copy['Pclass'] = df_test_copy['Pclass'].astype('category')\n",
    "df_test_copy['Sex'] = df_test_copy['Sex'].astype('category')\n",
    "df_test_copy['SibSp'] = df_test_copy['SibSp'].astype('category')\n",
    "df_test_copy['Parch'] = df_test_copy['Parch'].astype('category')\n",
    "df_test_copy['Embarked'] = df_test_copy['Embarked'].astype('category')\n",
    "df_test_copy['Ticket'] = df_test_copy['Ticket'].astype('category')\n",
    "df_test_copy['Cabin'] = df_test_copy['Cabin'].astype('category')\n",
    "df_test_copy['Name'] = df_test_copy['Name'].astype('category')"
   ]
  },
  {
   "cell_type": "markdown",
   "id": "0f1d4650",
   "metadata": {
    "papermill": {
     "duration": 0.023484,
     "end_time": "2023-04-25T09:44:24.106884",
     "exception": false,
     "start_time": "2023-04-25T09:44:24.083400",
     "status": "completed"
    },
    "tags": []
   },
   "source": [
    "<h3 id=\"section4\">4. Exploratory data analysis</h3>\n",
    "<p>Let's perform exploratory data analysis to extract insights from the cab trips dataset:</p>\n",
    "<h4 id=\"sub_section1\" >i. Univariate analysis</h4>\n",
    "<p>We will start by exploring the distribution of the numerical and categorical variables in the dataset:</p>"
   ]
  },
  {
   "cell_type": "code",
   "execution_count": null,
   "id": "7e78d41e",
   "metadata": {
    "execution": {
     "iopub.execute_input": "2023-04-25T09:44:24.155459Z",
     "iopub.status.busy": "2023-04-25T09:44:24.154365Z",
     "iopub.status.idle": "2023-04-25T09:44:24.161629Z",
     "shell.execute_reply": "2023-04-25T09:44:24.160590Z"
    },
    "papermill": {
     "duration": 0.034342,
     "end_time": "2023-04-25T09:44:24.164170",
     "exception": false,
     "start_time": "2023-04-25T09:44:24.129828",
     "status": "completed"
    },
    "tags": []
   },
   "outputs": [],
   "source": [
    "# Function for plolting the distribution of categorical variables\n",
    "def plot_cat(df, col, x_label, y_label, plot_title):\n",
    "    sns.set_style('darkgrid')\n",
    "    plt.figure(figsize=(12,8))\n",
    "    sns.countplot(data=df, x=col, color='dodgerblue')\n",
    "    plt.title(plot_title, fontsize=14)\n",
    "    plt.xlabel(x_label, fontsize=12)\n",
    "    plt.ylabel(y_label, fontsize=12)\n",
    "    plt.show()"
   ]
  },
  {
   "cell_type": "markdown",
   "id": "cd7f45c9",
   "metadata": {
    "papermill": {
     "duration": 0.022657,
     "end_time": "2023-04-25T09:44:24.210112",
     "exception": false,
     "start_time": "2023-04-25T09:44:24.187455",
     "status": "completed"
    },
    "tags": []
   },
   "source": [
    "<p>Here Survived column is our target variable. Let's explore its distribution.</p>"
   ]
  },
  {
   "cell_type": "code",
   "execution_count": null,
   "id": "bfdadaf2",
   "metadata": {
    "execution": {
     "iopub.execute_input": "2023-04-25T09:44:24.258955Z",
     "iopub.status.busy": "2023-04-25T09:44:24.258198Z",
     "iopub.status.idle": "2023-04-25T09:44:24.522475Z",
     "shell.execute_reply": "2023-04-25T09:44:24.521287Z"
    },
    "papermill": {
     "duration": 0.291602,
     "end_time": "2023-04-25T09:44:24.525169",
     "exception": false,
     "start_time": "2023-04-25T09:44:24.233567",
     "status": "completed"
    },
    "tags": []
   },
   "outputs": [],
   "source": [
    "# Plot distribution of Survived column\n",
    "plot_cat(df_train_copy, 'Survived', 'Survived', 'Count', 'Distribution of Survived column')"
   ]
  },
  {
   "cell_type": "code",
   "execution_count": null,
   "id": "556941de",
   "metadata": {
    "execution": {
     "iopub.execute_input": "2023-04-25T09:44:24.575365Z",
     "iopub.status.busy": "2023-04-25T09:44:24.574489Z",
     "iopub.status.idle": "2023-04-25T09:44:24.811844Z",
     "shell.execute_reply": "2023-04-25T09:44:24.810646Z"
    },
    "papermill": {
     "duration": 0.264914,
     "end_time": "2023-04-25T09:44:24.814463",
     "exception": false,
     "start_time": "2023-04-25T09:44:24.549549",
     "status": "completed"
    },
    "tags": []
   },
   "outputs": [],
   "source": [
    "# Plotting distribution of Pclass column\n",
    "plot_cat(df_train_copy, 'Pclass', 'Pclass', 'Count', 'Distribution of Pclass column')"
   ]
  },
  {
   "cell_type": "code",
   "execution_count": null,
   "id": "6e6bc68d",
   "metadata": {
    "execution": {
     "iopub.execute_input": "2023-04-25T09:44:24.866863Z",
     "iopub.status.busy": "2023-04-25T09:44:24.865719Z",
     "iopub.status.idle": "2023-04-25T09:44:25.104984Z",
     "shell.execute_reply": "2023-04-25T09:44:25.104104Z"
    },
    "papermill": {
     "duration": 0.268188,
     "end_time": "2023-04-25T09:44:25.107285",
     "exception": false,
     "start_time": "2023-04-25T09:44:24.839097",
     "status": "completed"
    },
    "tags": []
   },
   "outputs": [],
   "source": [
    "# Plotting distribution of Sex column\n",
    "plot_cat(df_train_copy, 'Sex', 'Sex', 'Count', 'Distribution of Sex column')"
   ]
  },
  {
   "cell_type": "code",
   "execution_count": null,
   "id": "ffe9ebc9",
   "metadata": {
    "execution": {
     "iopub.execute_input": "2023-04-25T09:44:25.159539Z",
     "iopub.status.busy": "2023-04-25T09:44:25.158422Z",
     "iopub.status.idle": "2023-04-25T09:44:25.434306Z",
     "shell.execute_reply": "2023-04-25T09:44:25.433026Z"
    },
    "papermill": {
     "duration": 0.304735,
     "end_time": "2023-04-25T09:44:25.437077",
     "exception": false,
     "start_time": "2023-04-25T09:44:25.132342",
     "status": "completed"
    },
    "tags": []
   },
   "outputs": [],
   "source": [
    "# Plottting distribution of SibSp column\n",
    "plot_cat(df_train_copy, 'SibSp', 'SibSp', 'Count', 'Distribution of SibSp column')"
   ]
  },
  {
   "cell_type": "code",
   "execution_count": null,
   "id": "754e5221",
   "metadata": {
    "execution": {
     "iopub.execute_input": "2023-04-25T09:44:25.489772Z",
     "iopub.status.busy": "2023-04-25T09:44:25.489327Z",
     "iopub.status.idle": "2023-04-25T09:44:25.772028Z",
     "shell.execute_reply": "2023-04-25T09:44:25.771092Z"
    },
    "papermill": {
     "duration": 0.311796,
     "end_time": "2023-04-25T09:44:25.774349",
     "exception": false,
     "start_time": "2023-04-25T09:44:25.462553",
     "status": "completed"
    },
    "tags": []
   },
   "outputs": [],
   "source": [
    "# Plottting distribution of Parch column\n",
    "plot_cat(df_train_copy, 'Parch', 'Parch', 'Count', 'Distribution of Parch column')"
   ]
  },
  {
   "cell_type": "code",
   "execution_count": null,
   "id": "5dbd2ed4",
   "metadata": {
    "execution": {
     "iopub.execute_input": "2023-04-25T09:44:25.827742Z",
     "iopub.status.busy": "2023-04-25T09:44:25.827076Z",
     "iopub.status.idle": "2023-04-25T09:44:26.069421Z",
     "shell.execute_reply": "2023-04-25T09:44:26.068234Z"
    },
    "papermill": {
     "duration": 0.271605,
     "end_time": "2023-04-25T09:44:26.072025",
     "exception": false,
     "start_time": "2023-04-25T09:44:25.800420",
     "status": "completed"
    },
    "tags": []
   },
   "outputs": [],
   "source": [
    "# Plottting distribution of Embarked column\n",
    "plot_cat(df_train_copy, 'Embarked', 'Embarked', 'Count', 'Distribution of Embarked column')"
   ]
  },
  {
   "cell_type": "markdown",
   "id": "21795199",
   "metadata": {
    "papermill": {
     "duration": 0.025394,
     "end_time": "2023-04-25T09:44:26.123558",
     "exception": false,
     "start_time": "2023-04-25T09:44:26.098164",
     "status": "completed"
    },
    "tags": []
   },
   "source": [
    "<p>Lets explore the distribution of numerical variables.</p>"
   ]
  },
  {
   "cell_type": "code",
   "execution_count": null,
   "id": "a028381d",
   "metadata": {
    "execution": {
     "iopub.execute_input": "2023-04-25T09:44:26.182602Z",
     "iopub.status.busy": "2023-04-25T09:44:26.181589Z",
     "iopub.status.idle": "2023-04-25T09:44:26.193825Z",
     "shell.execute_reply": "2023-04-25T09:44:26.192864Z"
    },
    "papermill": {
     "duration": 0.046814,
     "end_time": "2023-04-25T09:44:26.196430",
     "exception": false,
     "start_time": "2023-04-25T09:44:26.149616",
     "status": "completed"
    },
    "tags": []
   },
   "outputs": [],
   "source": [
    "# Function for calculating descriptives of numeric variable and plotting the distribution\n",
    "def plot_dist(df, col, x_label, y_label, plot_title):\n",
    "    _min = df[col].min()\n",
    "    _max = df[col].max()\n",
    "    ran = df[col].max()-df[col].min()\n",
    "    mean = df[col].mean()\n",
    "    median = df[col].median()\n",
    "    st_dev = df[col].std()\n",
    "    skew = df[col].skew()\n",
    "    kurt = df[col].kurtosis()\n",
    "\n",
    "    # calculating points of standard deviation\n",
    "    points = mean-st_dev, mean+st_dev\n",
    "    sns.set_style('darkgrid')\n",
    "    plt.figure(figsize=(12,8))\n",
    "    sns.histplot(data=df, x=col, bins=30, kde=True, color='dodgerblue')\n",
    "    sns.lineplot(x=points, y=[0,0], color = 'black', label = \"std_dev\")\n",
    "    sns.scatterplot(x=[_min,_max], y=[0,0], color = 'orange', label = \"min/max\")\n",
    "    sns.scatterplot(x=[mean], y=[0], color = 'red', label = \"mean\")\n",
    "    sns.scatterplot(x=[median], y=[0], color = 'blue', label = \"median\")\n",
    "    plt.title(plot_title, fontsize=14)\n",
    "    plt.xlabel(x_label, fontsize=12)\n",
    "    plt.ylabel(y_label, fontsize=12)\n",
    "\n",
    "    # Creating a DataFrame for the descriptive statistics\n",
    "    variable_stats = pd.DataFrame({'Statistics': ['Minimum Value', 'Maximum Value', 'Range', 'Mean', \n",
    "                                                    'Median', 'Standard Deviation', 'Skewness', 'Kurtosis'], \n",
    "                                        'Value': [_min, _max, ran, mean, median, st_dev, skew, kurt]})\n",
    "    \n",
    "    plt.show()\n",
    "\n",
    "    display(tabulate(variable_stats, headers='keys', showindex=False, tablefmt='html'))\n"
   ]
  },
  {
   "cell_type": "code",
   "execution_count": null,
   "id": "246f75dd",
   "metadata": {
    "execution": {
     "iopub.execute_input": "2023-04-25T09:44:26.250756Z",
     "iopub.status.busy": "2023-04-25T09:44:26.249990Z",
     "iopub.status.idle": "2023-04-25T09:44:26.813580Z",
     "shell.execute_reply": "2023-04-25T09:44:26.812299Z"
    },
    "papermill": {
     "duration": 0.594547,
     "end_time": "2023-04-25T09:44:26.816746",
     "exception": false,
     "start_time": "2023-04-25T09:44:26.222199",
     "status": "completed"
    },
    "tags": []
   },
   "outputs": [],
   "source": [
    "# Plotting distribution of Age column\n",
    "plot_dist(df_train, 'Age', 'Age', 'Count', 'Distribution of Age column')"
   ]
  },
  {
   "cell_type": "markdown",
   "id": "1111c5f3",
   "metadata": {
    "papermill": {
     "duration": 0.026608,
     "end_time": "2023-04-25T09:44:26.870425",
     "exception": false,
     "start_time": "2023-04-25T09:44:26.843817",
     "status": "completed"
    },
    "tags": []
   },
   "source": [
    "<ul>\n",
    "    <li>Median Age is 28.</li>\n",
    "    <li>Mean and Median Age are almost same. So Age is normally distributed.</li>\n",
    "</ul>"
   ]
  },
  {
   "cell_type": "code",
   "execution_count": null,
   "id": "cb7580bb",
   "metadata": {
    "execution": {
     "iopub.execute_input": "2023-04-25T09:44:26.927041Z",
     "iopub.status.busy": "2023-04-25T09:44:26.925948Z",
     "iopub.status.idle": "2023-04-25T09:44:27.434702Z",
     "shell.execute_reply": "2023-04-25T09:44:27.433476Z"
    },
    "papermill": {
     "duration": 0.540062,
     "end_time": "2023-04-25T09:44:27.437202",
     "exception": false,
     "start_time": "2023-04-25T09:44:26.897140",
     "status": "completed"
    },
    "tags": []
   },
   "outputs": [],
   "source": [
    "# Let's see how Fare column is distributed\n",
    "plot_dist(df_train, 'Fare', 'Fare', 'Count', 'Distribution of Fare column')"
   ]
  },
  {
   "cell_type": "markdown",
   "id": "c246db0f",
   "metadata": {
    "papermill": {
     "duration": 0.027119,
     "end_time": "2023-04-25T09:44:27.493683",
     "exception": false,
     "start_time": "2023-04-25T09:44:27.466564",
     "status": "completed"
    },
    "tags": []
   },
   "source": [
    "<p>Kurtosis of Fare is very high. So Fare is highly skewed.</p>\n",
    "<p>Which is as expected, because certain classes will have higher fares than others and limited seats.</p>"
   ]
  },
  {
   "cell_type": "markdown",
   "id": "fa4e8c05",
   "metadata": {
    "papermill": {
     "duration": 0.027696,
     "end_time": "2023-04-25T09:44:27.549692",
     "exception": false,
     "start_time": "2023-04-25T09:44:27.521996",
     "status": "completed"
    },
    "tags": []
   },
   "source": [
    "<h4 id=\"sub_section2\">ii. Bivariate analysis</h4>\n",
    "<p>Let's explore the relationship between the trip duration and other variables in the dataset:</p>"
   ]
  },
  {
   "cell_type": "code",
   "execution_count": null,
   "id": "9148131e",
   "metadata": {
    "execution": {
     "iopub.execute_input": "2023-04-25T09:44:27.607667Z",
     "iopub.status.busy": "2023-04-25T09:44:27.607254Z",
     "iopub.status.idle": "2023-04-25T09:44:27.613589Z",
     "shell.execute_reply": "2023-04-25T09:44:27.612811Z"
    },
    "papermill": {
     "duration": 0.037849,
     "end_time": "2023-04-25T09:44:27.615618",
     "exception": false,
     "start_time": "2023-04-25T09:44:27.577769",
     "status": "completed"
    },
    "tags": []
   },
   "outputs": [],
   "source": [
    "# Function for plotting the distribution of numeric variables against the target variable\n",
    "# Here target variable is assumed to be categorical\n",
    "def plot_num_vs_target(df, col, target, x_label, y_label, plot_title):\n",
    "    sns.set_style('darkgrid')\n",
    "    plt.figure(figsize=(12,8))\n",
    "    sns.boxplot(data=df, x=target, y=col, color='dodgerblue')\n",
    "    plt.title(plot_title, fontsize=14)\n",
    "    plt.xlabel(x_label, fontsize=12)\n",
    "    plt.ylabel(y_label, fontsize=12)\n",
    "    plt.show()"
   ]
  },
  {
   "cell_type": "code",
   "execution_count": null,
   "id": "4d44d7b5",
   "metadata": {
    "execution": {
     "iopub.execute_input": "2023-04-25T09:44:27.673937Z",
     "iopub.status.busy": "2023-04-25T09:44:27.673207Z",
     "iopub.status.idle": "2023-04-25T09:44:27.935078Z",
     "shell.execute_reply": "2023-04-25T09:44:27.933820Z"
    },
    "papermill": {
     "duration": 0.294571,
     "end_time": "2023-04-25T09:44:27.937457",
     "exception": false,
     "start_time": "2023-04-25T09:44:27.642886",
     "status": "completed"
    },
    "tags": []
   },
   "outputs": [],
   "source": [
    "# Relationship between Survived and Age\n",
    "plot_num_vs_target(df_train_copy, 'Age', 'Survived', 'Survived', 'Age', 'Relationship between Survived and Age')"
   ]
  },
  {
   "cell_type": "code",
   "execution_count": null,
   "id": "65d8044d",
   "metadata": {
    "execution": {
     "iopub.execute_input": "2023-04-25T09:44:27.996934Z",
     "iopub.status.busy": "2023-04-25T09:44:27.996493Z",
     "iopub.status.idle": "2023-04-25T09:44:28.254547Z",
     "shell.execute_reply": "2023-04-25T09:44:28.253377Z"
    },
    "papermill": {
     "duration": 0.292047,
     "end_time": "2023-04-25T09:44:28.257686",
     "exception": false,
     "start_time": "2023-04-25T09:44:27.965639",
     "status": "completed"
    },
    "tags": []
   },
   "outputs": [],
   "source": [
    "# Relationship between Survived and Fare\n",
    "plot_num_vs_target(df_train_copy, 'Fare', 'Survived', 'Survived', 'Fare', 'Relationship between Survived and Fare')"
   ]
  },
  {
   "cell_type": "code",
   "execution_count": null,
   "id": "334bfb61",
   "metadata": {
    "execution": {
     "iopub.execute_input": "2023-04-25T09:44:28.316967Z",
     "iopub.status.busy": "2023-04-25T09:44:28.316536Z",
     "iopub.status.idle": "2023-04-25T09:44:28.323737Z",
     "shell.execute_reply": "2023-04-25T09:44:28.322682Z"
    },
    "papermill": {
     "duration": 0.039248,
     "end_time": "2023-04-25T09:44:28.325792",
     "exception": false,
     "start_time": "2023-04-25T09:44:28.286544",
     "status": "completed"
    },
    "tags": []
   },
   "outputs": [],
   "source": [
    "# Function for plotting the distribution of categorical variables against the target variable\n",
    "# Here target variable and categorical variable are assumed to be categorical\n",
    "def plot_cat_vs_target(df, col, target, x_label, y_label, plot_title):\n",
    "    sns.set_style('darkgrid')\n",
    "    plt.figure(figsize=(12,8))\n",
    "    sns.countplot(data=df, x=col, hue=target, palette='Set1')\n",
    "    plt.title(plot_title, fontsize=14)\n",
    "    plt.xlabel(x_label, fontsize=12)\n",
    "    plt.ylabel(y_label, fontsize=12)\n",
    "    plt.show()"
   ]
  },
  {
   "cell_type": "code",
   "execution_count": null,
   "id": "4ec6f1eb",
   "metadata": {
    "execution": {
     "iopub.execute_input": "2023-04-25T09:44:28.384950Z",
     "iopub.status.busy": "2023-04-25T09:44:28.384166Z",
     "iopub.status.idle": "2023-04-25T09:44:28.662840Z",
     "shell.execute_reply": "2023-04-25T09:44:28.661950Z"
    },
    "papermill": {
     "duration": 0.310946,
     "end_time": "2023-04-25T09:44:28.665175",
     "exception": false,
     "start_time": "2023-04-25T09:44:28.354229",
     "status": "completed"
    },
    "tags": []
   },
   "outputs": [],
   "source": [
    "# Relationship between Survived and Pclass\n",
    "plot_cat_vs_target(df_train_copy, 'Pclass', 'Survived', 'Pclass', 'Count', 'Relationship between Survived and Pclass')"
   ]
  },
  {
   "cell_type": "code",
   "execution_count": null,
   "id": "14a245c3",
   "metadata": {
    "execution": {
     "iopub.execute_input": "2023-04-25T09:44:28.727840Z",
     "iopub.status.busy": "2023-04-25T09:44:28.726824Z",
     "iopub.status.idle": "2023-04-25T09:44:28.986681Z",
     "shell.execute_reply": "2023-04-25T09:44:28.985480Z"
    },
    "papermill": {
     "duration": 0.293708,
     "end_time": "2023-04-25T09:44:28.989475",
     "exception": false,
     "start_time": "2023-04-25T09:44:28.695767",
     "status": "completed"
    },
    "tags": []
   },
   "outputs": [],
   "source": [
    "# Relationship between Survived and Sex\n",
    "plot_cat_vs_target(df_train_copy, 'Sex', 'Survived', 'Sex', 'Count', 'Relationship between Survived and Sex')"
   ]
  },
  {
   "cell_type": "code",
   "execution_count": null,
   "id": "7eb27743",
   "metadata": {
    "execution": {
     "iopub.execute_input": "2023-04-25T09:44:29.050944Z",
     "iopub.status.busy": "2023-04-25T09:44:29.050176Z",
     "iopub.status.idle": "2023-04-25T09:44:29.464431Z",
     "shell.execute_reply": "2023-04-25T09:44:29.463260Z"
    },
    "papermill": {
     "duration": 0.448142,
     "end_time": "2023-04-25T09:44:29.467326",
     "exception": false,
     "start_time": "2023-04-25T09:44:29.019184",
     "status": "completed"
    },
    "tags": []
   },
   "outputs": [],
   "source": [
    "# Relationship between Survived and SibSp\n",
    "plot_cat_vs_target(df_train_copy, 'SibSp', 'Survived', 'SibSp', 'Count', 'Relationship between Survived and SibSp')"
   ]
  },
  {
   "cell_type": "code",
   "execution_count": null,
   "id": "bdead0ad",
   "metadata": {
    "execution": {
     "iopub.execute_input": "2023-04-25T09:44:29.530632Z",
     "iopub.status.busy": "2023-04-25T09:44:29.529722Z",
     "iopub.status.idle": "2023-04-25T09:44:29.779101Z",
     "shell.execute_reply": "2023-04-25T09:44:29.777916Z"
    },
    "papermill": {
     "duration": 0.284101,
     "end_time": "2023-04-25T09:44:29.781653",
     "exception": false,
     "start_time": "2023-04-25T09:44:29.497552",
     "status": "completed"
    },
    "tags": []
   },
   "outputs": [],
   "source": [
    "# Relationship between Survived and Parch\n",
    "plot_cat_vs_target(df_train_copy, 'Parch', 'Survived', 'Parch', 'Count', 'Relationship between Survived and Parch')"
   ]
  },
  {
   "cell_type": "code",
   "execution_count": null,
   "id": "cc8b9ab7",
   "metadata": {
    "execution": {
     "iopub.execute_input": "2023-04-25T09:44:29.846702Z",
     "iopub.status.busy": "2023-04-25T09:44:29.846238Z",
     "iopub.status.idle": "2023-04-25T09:44:30.065822Z",
     "shell.execute_reply": "2023-04-25T09:44:30.064679Z"
    },
    "papermill": {
     "duration": 0.254902,
     "end_time": "2023-04-25T09:44:30.068605",
     "exception": false,
     "start_time": "2023-04-25T09:44:29.813703",
     "status": "completed"
    },
    "tags": []
   },
   "outputs": [],
   "source": [
    "# Relationship between Survived and Embarked\n",
    "plot_cat_vs_target(df_train_copy, 'Embarked', 'Survived', 'Embarked', 'Count', 'Relationship between Survived and Embarked')"
   ]
  },
  {
   "cell_type": "markdown",
   "id": "73c7194f",
   "metadata": {
    "papermill": {
     "duration": 0.030999,
     "end_time": "2023-04-25T09:44:30.130900",
     "exception": false,
     "start_time": "2023-04-25T09:44:30.099901",
     "status": "completed"
    },
    "tags": []
   },
   "source": [
    "<h3 id=\"section5\">5. Data Preprocessing</h3>\n",
    "<p>Before we use variables in our model, we need to preprocess them. We will perform the following steps:</p>\n",
    "<ul>\n",
    "    <li>One-hot encode categorical variables</li>\n",
    "    <li>Lable encode categorical variables</li>\n",
    "</ul>"
   ]
  },
  {
   "cell_type": "code",
   "execution_count": null,
   "id": "b3765b0d",
   "metadata": {
    "execution": {
     "iopub.execute_input": "2023-04-25T09:44:30.196248Z",
     "iopub.status.busy": "2023-04-25T09:44:30.195154Z",
     "iopub.status.idle": "2023-04-25T09:44:30.346720Z",
     "shell.execute_reply": "2023-04-25T09:44:30.345734Z"
    },
    "papermill": {
     "duration": 0.187652,
     "end_time": "2023-04-25T09:44:30.349936",
     "exception": false,
     "start_time": "2023-04-25T09:44:30.162284",
     "status": "completed"
    },
    "tags": []
   },
   "outputs": [],
   "source": [
    "# Function to encode categorical variables, we will use scikit-learn's LabelEncoder for label encoding and pandas get_dummies for one-hot encoding\n",
    "from sklearn.preprocessing import LabelEncoder\n",
    "\n",
    "def encode_cat(df, col, encoding_type):\n",
    "    if encoding_type == 'label':\n",
    "        label_encoder = LabelEncoder()\n",
    "        df[col] = label_encoder.fit_transform(df[col])\n",
    "    elif encoding_type == 'onehot':\n",
    "        df = pd.get_dummies(df, columns=[col], prefix=[col])\n",
    "    return df"
   ]
  },
  {
   "cell_type": "code",
   "execution_count": null,
   "id": "73abb0c1",
   "metadata": {
    "execution": {
     "iopub.execute_input": "2023-04-25T09:44:30.415511Z",
     "iopub.status.busy": "2023-04-25T09:44:30.415115Z",
     "iopub.status.idle": "2023-04-25T09:44:30.436002Z",
     "shell.execute_reply": "2023-04-25T09:44:30.434853Z"
    },
    "papermill": {
     "duration": 0.056276,
     "end_time": "2023-04-25T09:44:30.438609",
     "exception": false,
     "start_time": "2023-04-25T09:44:30.382333",
     "status": "completed"
    },
    "tags": []
   },
   "outputs": [],
   "source": [
    "# Encoding variables in the training dataset and create a new dataframe called df_train_encoded\n",
    "df_train_encoded = df_train_copy.copy()\n",
    "df_train_encoded = encode_cat(df_train_encoded, 'Survived', 'label')\n",
    "df_train_encoded = encode_cat(df_train_encoded, 'Cabin', 'label')\n",
    "df_train_encoded = encode_cat(df_train_encoded, 'Pclass', 'label')\n",
    "df_train_encoded = encode_cat(df_train_encoded, 'Sex', 'label')\n",
    "df_train_encoded = encode_cat(df_train_encoded, 'SibSp', 'label')\n",
    "df_train_encoded = encode_cat(df_train_encoded, 'Parch', 'label')\n",
    "df_train_encoded = encode_cat(df_train_encoded, 'Embarked', 'label')\n",
    "\n",
    "# Encoding variables in the test dataset and create a new dataframe called df_test_encoded\n",
    "df_test_encoded = df_test_copy.copy()\n",
    "df_test_encoded = encode_cat(df_test_encoded, 'Cabin', 'label')\n",
    "df_test_encoded = encode_cat(df_test_encoded, 'Pclass', 'label')\n",
    "df_test_encoded = encode_cat(df_test_encoded, 'Sex', 'label')\n",
    "df_test_encoded = encode_cat(df_test_encoded, 'SibSp', 'label')\n",
    "df_test_encoded = encode_cat(df_test_encoded, 'Parch', 'label')\n",
    "df_test_encoded = encode_cat(df_test_encoded, 'Embarked', 'label')"
   ]
  },
  {
   "cell_type": "code",
   "execution_count": null,
   "id": "0a863fc8",
   "metadata": {
    "execution": {
     "iopub.execute_input": "2023-04-25T09:44:30.505722Z",
     "iopub.status.busy": "2023-04-25T09:44:30.505312Z",
     "iopub.status.idle": "2023-04-25T09:44:30.522711Z",
     "shell.execute_reply": "2023-04-25T09:44:30.521624Z"
    },
    "papermill": {
     "duration": 0.05446,
     "end_time": "2023-04-25T09:44:30.525010",
     "exception": false,
     "start_time": "2023-04-25T09:44:30.470550",
     "status": "completed"
    },
    "tags": []
   },
   "outputs": [],
   "source": [
    "# Check the processed training set\n",
    "df_train_encoded.head()"
   ]
  },
  {
   "cell_type": "code",
   "execution_count": null,
   "id": "6b9af6ea",
   "metadata": {
    "execution": {
     "iopub.execute_input": "2023-04-25T09:44:30.589434Z",
     "iopub.status.busy": "2023-04-25T09:44:30.589024Z",
     "iopub.status.idle": "2023-04-25T09:44:30.605931Z",
     "shell.execute_reply": "2023-04-25T09:44:30.604769Z"
    },
    "papermill": {
     "duration": 0.052164,
     "end_time": "2023-04-25T09:44:30.608377",
     "exception": false,
     "start_time": "2023-04-25T09:44:30.556213",
     "status": "completed"
    },
    "tags": []
   },
   "outputs": [],
   "source": [
    "# Check the processed test set\n",
    "df_test_encoded.head()"
   ]
  },
  {
   "cell_type": "markdown",
   "id": "c29b7d09",
   "metadata": {
    "papermill": {
     "duration": 0.032251,
     "end_time": "2023-04-25T09:44:30.672480",
     "exception": false,
     "start_time": "2023-04-25T09:44:30.640229",
     "status": "completed"
    },
    "tags": []
   },
   "source": [
    "<p>Now that we have preprocessed the variables, let's check the correlation between them:</p>"
   ]
  },
  {
   "cell_type": "code",
   "execution_count": null,
   "id": "c604880b",
   "metadata": {
    "execution": {
     "iopub.execute_input": "2023-04-25T09:44:30.737398Z",
     "iopub.status.busy": "2023-04-25T09:44:30.736981Z",
     "iopub.status.idle": "2023-04-25T09:44:30.742901Z",
     "shell.execute_reply": "2023-04-25T09:44:30.742079Z"
    },
    "papermill": {
     "duration": 0.040662,
     "end_time": "2023-04-25T09:44:30.745057",
     "exception": false,
     "start_time": "2023-04-25T09:44:30.704395",
     "status": "completed"
    },
    "tags": []
   },
   "outputs": [],
   "source": [
    "# Function to plot correlation between variables\n",
    "def plot_corr(df, size=10):\n",
    "    corr = df.corr()\n",
    "#     print(corr)\n",
    "    fig, ax = plt.subplots(figsize=(size, size))\n",
    "    sns.heatmap(corr, annot=True, linewidths=.5, ax=ax, cmap='crest')\n",
    "    plt.show() "
   ]
  },
  {
   "cell_type": "code",
   "execution_count": null,
   "id": "0ecbc8f5",
   "metadata": {
    "execution": {
     "iopub.execute_input": "2023-04-25T09:44:30.809178Z",
     "iopub.status.busy": "2023-04-25T09:44:30.808780Z",
     "iopub.status.idle": "2023-04-25T09:44:31.432415Z",
     "shell.execute_reply": "2023-04-25T09:44:31.430530Z"
    },
    "papermill": {
     "duration": 0.659113,
     "end_time": "2023-04-25T09:44:31.435502",
     "exception": false,
     "start_time": "2023-04-25T09:44:30.776389",
     "status": "completed"
    },
    "scrolled": true,
    "tags": []
   },
   "outputs": [],
   "source": [
    "# Correlation between variables in the training set\n",
    "plot_corr(df_train_encoded.drop(['PassengerId', 'Name', 'Ticket'], axis=1))"
   ]
  },
  {
   "cell_type": "markdown",
   "id": "b0cd4f18",
   "metadata": {
    "papermill": {
     "duration": 0.043012,
     "end_time": "2023-04-25T09:44:31.515713",
     "exception": false,
     "start_time": "2023-04-25T09:44:31.472701",
     "status": "completed"
    },
    "tags": []
   },
   "source": [
    "<p>Let's check the correlation between the variables and the target variable:</p>"
   ]
  },
  {
   "cell_type": "code",
   "execution_count": null,
   "id": "2b57d901",
   "metadata": {
    "execution": {
     "iopub.execute_input": "2023-04-25T09:44:31.590088Z",
     "iopub.status.busy": "2023-04-25T09:44:31.589111Z",
     "iopub.status.idle": "2023-04-25T09:44:31.595711Z",
     "shell.execute_reply": "2023-04-25T09:44:31.594497Z"
    },
    "papermill": {
     "duration": 0.043691,
     "end_time": "2023-04-25T09:44:31.597975",
     "exception": false,
     "start_time": "2023-04-25T09:44:31.554284",
     "status": "completed"
    },
    "tags": []
   },
   "outputs": [],
   "source": [
    "# Function to plot correlation of variables with the target variable as a barplot\n",
    "def plot_corr_target(df, target, size=10):\n",
    "    corr = df.corr()\n",
    "    corr_target = corr[target]\n",
    "    corr_target = corr_target.sort_values(ascending=False)\n",
    "    corr_target = corr_target.drop(target)\n",
    "    plt.figure(figsize=(size, size))\n",
    "    corr_target.plot.barh()\n",
    "    plt.show()"
   ]
  },
  {
   "cell_type": "code",
   "execution_count": null,
   "id": "c026c3d6",
   "metadata": {
    "execution": {
     "iopub.execute_input": "2023-04-25T09:44:31.668207Z",
     "iopub.status.busy": "2023-04-25T09:44:31.667749Z",
     "iopub.status.idle": "2023-04-25T09:44:32.059569Z",
     "shell.execute_reply": "2023-04-25T09:44:32.058318Z"
    },
    "papermill": {
     "duration": 0.428898,
     "end_time": "2023-04-25T09:44:32.062349",
     "exception": false,
     "start_time": "2023-04-25T09:44:31.633451",
     "status": "completed"
    },
    "tags": []
   },
   "outputs": [],
   "source": [
    "# Check correlation of variables with the target variable\n",
    "plot_corr_target(df_train_encoded.drop(['Name', 'Ticket', 'PassengerId'], axis=1), 'Survived')"
   ]
  },
  {
   "cell_type": "markdown",
   "id": "7b3cf7d4",
   "metadata": {
    "papermill": {
     "duration": 0.032866,
     "end_time": "2023-04-25T09:44:32.128247",
     "exception": false,
     "start_time": "2023-04-25T09:44:32.095381",
     "status": "completed"
    },
    "tags": []
   },
   "source": [
    "<h3 id=\"section6\">6. Model Building and Evaluation</h3>\n",
    "<p>Let's build a model to predict the Survival of passengers on the Titanic:</p>\n",
    "<p>We will use different classification algorithms to build models and evaluate them using F1 score:</p>"
   ]
  },
  {
   "cell_type": "code",
   "execution_count": null,
   "id": "d408c4ab",
   "metadata": {
    "execution": {
     "iopub.execute_input": "2023-04-25T09:44:32.197237Z",
     "iopub.status.busy": "2023-04-25T09:44:32.196298Z",
     "iopub.status.idle": "2023-04-25T09:44:32.205757Z",
     "shell.execute_reply": "2023-04-25T09:44:32.204834Z"
    },
    "papermill": {
     "duration": 0.046705,
     "end_time": "2023-04-25T09:44:32.208180",
     "exception": false,
     "start_time": "2023-04-25T09:44:32.161475",
     "status": "completed"
    },
    "tags": []
   },
   "outputs": [],
   "source": [
    "# We will first separate the target variable from the features\n",
    "y = df_train_encoded['Survived']\n",
    "x = df_train_encoded.drop(['Survived', 'Name', 'Ticket', 'PassengerId'], axis=1)\n",
    "x.shape, y.shape"
   ]
  },
  {
   "cell_type": "markdown",
   "id": "1d649da7",
   "metadata": {
    "papermill": {
     "duration": 0.032952,
     "end_time": "2023-04-25T09:44:32.274716",
     "exception": false,
     "start_time": "2023-04-25T09:44:32.241764",
     "status": "completed"
    },
    "tags": []
   },
   "source": [
    "<p>Let's scale the features usinf scikit-learn's MinMax scaler:</p>"
   ]
  },
  {
   "cell_type": "code",
   "execution_count": null,
   "id": "6676a31b",
   "metadata": {
    "execution": {
     "iopub.execute_input": "2023-04-25T09:44:32.342501Z",
     "iopub.status.busy": "2023-04-25T09:44:32.342002Z",
     "iopub.status.idle": "2023-04-25T09:44:32.353186Z",
     "shell.execute_reply": "2023-04-25T09:44:32.352080Z"
    },
    "papermill": {
     "duration": 0.047816,
     "end_time": "2023-04-25T09:44:32.355457",
     "exception": false,
     "start_time": "2023-04-25T09:44:32.307641",
     "status": "completed"
    },
    "tags": []
   },
   "outputs": [],
   "source": [
    "## Importing the MinMax Scaler\n",
    "from sklearn.preprocessing import MinMaxScaler\n",
    "scaler = MinMaxScaler()\n",
    "x_scaled = scaler.fit_transform(x)"
   ]
  },
  {
   "cell_type": "code",
   "execution_count": null,
   "id": "3a22d23f",
   "metadata": {
    "execution": {
     "iopub.execute_input": "2023-04-25T09:44:32.426252Z",
     "iopub.status.busy": "2023-04-25T09:44:32.425251Z",
     "iopub.status.idle": "2023-04-25T09:44:32.431301Z",
     "shell.execute_reply": "2023-04-25T09:44:32.430070Z"
    },
    "papermill": {
     "duration": 0.043368,
     "end_time": "2023-04-25T09:44:32.433584",
     "exception": false,
     "start_time": "2023-04-25T09:44:32.390216",
     "status": "completed"
    },
    "tags": []
   },
   "outputs": [],
   "source": [
    "x = pd.DataFrame(x_scaled, columns = x.columns)"
   ]
  },
  {
   "cell_type": "code",
   "execution_count": null,
   "id": "ea566180",
   "metadata": {
    "execution": {
     "iopub.execute_input": "2023-04-25T09:44:32.505044Z",
     "iopub.status.busy": "2023-04-25T09:44:32.504266Z",
     "iopub.status.idle": "2023-04-25T09:44:32.520136Z",
     "shell.execute_reply": "2023-04-25T09:44:32.518849Z"
    },
    "papermill": {
     "duration": 0.052865,
     "end_time": "2023-04-25T09:44:32.522678",
     "exception": false,
     "start_time": "2023-04-25T09:44:32.469813",
     "status": "completed"
    },
    "tags": []
   },
   "outputs": [],
   "source": [
    "# Check data after scaling\n",
    "x.head()"
   ]
  },
  {
   "cell_type": "markdown",
   "id": "b9e6aa90",
   "metadata": {
    "papermill": {
     "duration": 0.033078,
     "end_time": "2023-04-25T09:44:32.589165",
     "exception": false,
     "start_time": "2023-04-25T09:44:32.556087",
     "status": "completed"
    },
    "tags": []
   },
   "source": [
    "<p>Now, let's split the dataset into training and test sets:</p>"
   ]
  },
  {
   "cell_type": "code",
   "execution_count": null,
   "id": "c352d66b",
   "metadata": {
    "execution": {
     "iopub.execute_input": "2023-04-25T09:44:32.656866Z",
     "iopub.status.busy": "2023-04-25T09:44:32.656414Z",
     "iopub.status.idle": "2023-04-25T09:44:32.721133Z",
     "shell.execute_reply": "2023-04-25T09:44:32.720161Z"
    },
    "papermill": {
     "duration": 0.101589,
     "end_time": "2023-04-25T09:44:32.723650",
     "exception": false,
     "start_time": "2023-04-25T09:44:32.622061",
     "status": "completed"
    },
    "tags": []
   },
   "outputs": [],
   "source": [
    "# Importing the train test split function\n",
    "from sklearn.model_selection import train_test_split\n",
    "train_x,test_x,train_y,test_y = train_test_split(x,y, random_state = 56, stratify=y)"
   ]
  },
  {
   "cell_type": "markdown",
   "id": "10dc4c79",
   "metadata": {
    "papermill": {
     "duration": 0.032513,
     "end_time": "2023-04-25T09:44:32.789198",
     "exception": false,
     "start_time": "2023-04-25T09:44:32.756685",
     "status": "completed"
    },
    "tags": []
   },
   "source": [
    "<h4 id=\"sub_section2_1\">i. KNN Classifier</h4>"
   ]
  },
  {
   "cell_type": "code",
   "execution_count": null,
   "id": "1eb48479",
   "metadata": {
    "execution": {
     "iopub.execute_input": "2023-04-25T09:44:32.858109Z",
     "iopub.status.busy": "2023-04-25T09:44:32.857667Z",
     "iopub.status.idle": "2023-04-25T09:44:33.042443Z",
     "shell.execute_reply": "2023-04-25T09:44:33.041421Z"
    },
    "papermill": {
     "duration": 0.223527,
     "end_time": "2023-04-25T09:44:33.045712",
     "exception": false,
     "start_time": "2023-04-25T09:44:32.822185",
     "status": "completed"
    },
    "tags": []
   },
   "outputs": [],
   "source": [
    "# Import KNN classifier and metric F1 score\n",
    "from sklearn.neighbors import KNeighborsClassifier as KNN\n",
    "from sklearn.metrics import f1_score"
   ]
  },
  {
   "cell_type": "code",
   "execution_count": null,
   "id": "65e5c9ee",
   "metadata": {
    "execution": {
     "iopub.execute_input": "2023-04-25T09:44:33.114951Z",
     "iopub.status.busy": "2023-04-25T09:44:33.114033Z",
     "iopub.status.idle": "2023-04-25T09:44:33.135602Z",
     "shell.execute_reply": "2023-04-25T09:44:33.134187Z"
    },
    "papermill": {
     "duration": 0.058756,
     "end_time": "2023-04-25T09:44:33.137814",
     "exception": false,
     "start_time": "2023-04-25T09:44:33.079058",
     "status": "completed"
    },
    "tags": []
   },
   "outputs": [],
   "source": [
    "# Creating instance of KNN\n",
    "clf = KNN(n_neighbors = 10)\n",
    "\n",
    "# Fitting the model\n",
    "clf.fit(train_x, train_y)\n",
    "\n",
    "# Predicting over the Train Set and calculating F1\n",
    "test_predict = clf.predict(test_x)\n",
    "k = f1_score(test_predict, test_y)\n",
    "print('Test F1 Score    ', k )"
   ]
  },
  {
   "cell_type": "markdown",
   "id": "36bfe3bb",
   "metadata": {
    "papermill": {
     "duration": 0.032442,
     "end_time": "2023-04-25T09:44:33.203231",
     "exception": false,
     "start_time": "2023-04-25T09:44:33.170789",
     "status": "completed"
    },
    "tags": []
   },
   "source": [
    "<p>Now, let's use Elbow method to find the optimal value of K:</p>"
   ]
  },
  {
   "cell_type": "code",
   "execution_count": null,
   "id": "7f448a3b",
   "metadata": {
    "execution": {
     "iopub.execute_input": "2023-04-25T09:44:33.272353Z",
     "iopub.status.busy": "2023-04-25T09:44:33.271124Z",
     "iopub.status.idle": "2023-04-25T09:44:33.277728Z",
     "shell.execute_reply": "2023-04-25T09:44:33.276797Z"
    },
    "papermill": {
     "duration": 0.043903,
     "end_time": "2023-04-25T09:44:33.280087",
     "exception": false,
     "start_time": "2023-04-25T09:44:33.236184",
     "status": "completed"
    },
    "tags": []
   },
   "outputs": [],
   "source": [
    "# Function to find the best value of K\n",
    "def Elbow(K):\n",
    "    #initiating empty list\n",
    "    test_error = []\n",
    "   \n",
    "    #training model for evey value of K\n",
    "    for i in K:\n",
    "        #Instance oh KNN\n",
    "        clf = KNN(n_neighbors = i)\n",
    "        clf.fit(train_x, train_y)\n",
    "        # Appending F1 scores to empty list claculated using the predictions\n",
    "        tmp = clf.predict(test_x)\n",
    "        tmp = f1_score(tmp,test_y)\n",
    "        error = 1-tmp\n",
    "        test_error.append(error)\n",
    "    \n",
    "    return test_error"
   ]
  },
  {
   "cell_type": "code",
   "execution_count": null,
   "id": "6cf476d6",
   "metadata": {
    "execution": {
     "iopub.execute_input": "2023-04-25T09:44:33.348858Z",
     "iopub.status.busy": "2023-04-25T09:44:33.348122Z",
     "iopub.status.idle": "2023-04-25T09:44:33.352675Z",
     "shell.execute_reply": "2023-04-25T09:44:33.351592Z"
    },
    "papermill": {
     "duration": 0.041414,
     "end_time": "2023-04-25T09:44:33.354769",
     "exception": false,
     "start_time": "2023-04-25T09:44:33.313355",
     "status": "completed"
    },
    "tags": []
   },
   "outputs": [],
   "source": [
    "#Defining K range\n",
    "k = range(6, 20, 2)"
   ]
  },
  {
   "cell_type": "code",
   "execution_count": null,
   "id": "d8c57af8",
   "metadata": {
    "execution": {
     "iopub.execute_input": "2023-04-25T09:44:33.423279Z",
     "iopub.status.busy": "2023-04-25T09:44:33.422542Z",
     "iopub.status.idle": "2023-04-25T09:44:33.516302Z",
     "shell.execute_reply": "2023-04-25T09:44:33.514958Z"
    },
    "papermill": {
     "duration": 0.131237,
     "end_time": "2023-04-25T09:44:33.519191",
     "exception": false,
     "start_time": "2023-04-25T09:44:33.387954",
     "status": "completed"
    },
    "tags": []
   },
   "outputs": [],
   "source": [
    "# calling above defined function\n",
    "test = Elbow(k)"
   ]
  },
  {
   "cell_type": "code",
   "execution_count": null,
   "id": "d34a7f48",
   "metadata": {
    "execution": {
     "iopub.execute_input": "2023-04-25T09:44:33.589441Z",
     "iopub.status.busy": "2023-04-25T09:44:33.589019Z",
     "iopub.status.idle": "2023-04-25T09:44:33.892247Z",
     "shell.execute_reply": "2023-04-25T09:44:33.891104Z"
    },
    "papermill": {
     "duration": 0.341183,
     "end_time": "2023-04-25T09:44:33.894551",
     "exception": false,
     "start_time": "2023-04-25T09:44:33.553368",
     "status": "completed"
    },
    "tags": []
   },
   "outputs": [],
   "source": [
    "# plotting the Curves\n",
    "plt.plot(k, test)\n",
    "plt.xlabel('K Neighbors')\n",
    "plt.ylabel('Test error')\n",
    "plt.title('Elbow Curve for test')"
   ]
  },
  {
   "cell_type": "code",
   "execution_count": null,
   "id": "f4144f39",
   "metadata": {
    "execution": {
     "iopub.execute_input": "2023-04-25T09:44:33.965689Z",
     "iopub.status.busy": "2023-04-25T09:44:33.965263Z",
     "iopub.status.idle": "2023-04-25T09:44:33.986719Z",
     "shell.execute_reply": "2023-04-25T09:44:33.985187Z"
    },
    "papermill": {
     "duration": 0.059975,
     "end_time": "2023-04-25T09:44:33.989245",
     "exception": false,
     "start_time": "2023-04-25T09:44:33.929270",
     "status": "completed"
    },
    "tags": []
   },
   "outputs": [],
   "source": [
    "# Creating instance of KNN\n",
    "clf = KNN(n_neighbors = 6)\n",
    "\n",
    "# Fitting the model\n",
    "clf.fit(train_x, train_y)\n",
    "\n",
    "# Predicting over the Test Set and calculating F1\n",
    "test_predict = clf.predict(test_x)\n",
    "k = f1_score(test_predict, test_y)\n",
    "print('Test F1 Score    ', k )"
   ]
  },
  {
   "cell_type": "code",
   "execution_count": null,
   "id": "1ad562f9",
   "metadata": {
    "execution": {
     "iopub.execute_input": "2023-04-25T09:44:34.060508Z",
     "iopub.status.busy": "2023-04-25T09:44:34.059137Z",
     "iopub.status.idle": "2023-04-25T09:44:34.084569Z",
     "shell.execute_reply": "2023-04-25T09:44:34.083338Z"
    },
    "papermill": {
     "duration": 0.063859,
     "end_time": "2023-04-25T09:44:34.087472",
     "exception": false,
     "start_time": "2023-04-25T09:44:34.023613",
     "status": "completed"
    },
    "tags": []
   },
   "outputs": [],
   "source": [
    "submission_predictions = clf.predict(df_test_encoded.drop(['Name', 'Ticket', 'PassengerId'], axis=1))"
   ]
  },
  {
   "cell_type": "code",
   "execution_count": null,
   "id": "e637068f",
   "metadata": {
    "execution": {
     "iopub.execute_input": "2023-04-25T09:44:34.157461Z",
     "iopub.status.busy": "2023-04-25T09:44:34.157035Z",
     "iopub.status.idle": "2023-04-25T09:44:34.165970Z",
     "shell.execute_reply": "2023-04-25T09:44:34.164702Z"
    },
    "papermill": {
     "duration": 0.046615,
     "end_time": "2023-04-25T09:44:34.168289",
     "exception": false,
     "start_time": "2023-04-25T09:44:34.121674",
     "status": "completed"
    },
    "tags": []
   },
   "outputs": [],
   "source": [
    "submission_predictions"
   ]
  },
  {
   "cell_type": "code",
   "execution_count": null,
   "id": "5360a945",
   "metadata": {
    "execution": {
     "iopub.execute_input": "2023-04-25T09:44:34.239160Z",
     "iopub.status.busy": "2023-04-25T09:44:34.238530Z",
     "iopub.status.idle": "2023-04-25T09:44:34.244258Z",
     "shell.execute_reply": "2023-04-25T09:44:34.243295Z"
    },
    "papermill": {
     "duration": 0.043654,
     "end_time": "2023-04-25T09:44:34.246647",
     "exception": false,
     "start_time": "2023-04-25T09:44:34.202993",
     "status": "completed"
    },
    "tags": []
   },
   "outputs": [],
   "source": [
    "df_submission['Survived'] = submission_predictions"
   ]
  },
  {
   "cell_type": "code",
   "execution_count": null,
   "id": "7d5f8c92",
   "metadata": {
    "execution": {
     "iopub.execute_input": "2023-04-25T09:44:34.317253Z",
     "iopub.status.busy": "2023-04-25T09:44:34.316837Z",
     "iopub.status.idle": "2023-04-25T09:44:34.327230Z",
     "shell.execute_reply": "2023-04-25T09:44:34.326070Z"
    },
    "papermill": {
     "duration": 0.048794,
     "end_time": "2023-04-25T09:44:34.329450",
     "exception": false,
     "start_time": "2023-04-25T09:44:34.280656",
     "status": "completed"
    },
    "tags": []
   },
   "outputs": [],
   "source": [
    "df_submission.head()"
   ]
  },
  {
   "cell_type": "code",
   "execution_count": null,
   "id": "d10864cb",
   "metadata": {
    "execution": {
     "iopub.execute_input": "2023-04-25T09:44:34.400990Z",
     "iopub.status.busy": "2023-04-25T09:44:34.400157Z",
     "iopub.status.idle": "2023-04-25T09:44:34.410145Z",
     "shell.execute_reply": "2023-04-25T09:44:34.409138Z"
    },
    "papermill": {
     "duration": 0.048754,
     "end_time": "2023-04-25T09:44:34.412430",
     "exception": false,
     "start_time": "2023-04-25T09:44:34.363676",
     "status": "completed"
    },
    "tags": []
   },
   "outputs": [],
   "source": [
    "df_submission.to_csv('submission.csv', index=False)"
   ]
  },
  {
   "cell_type": "markdown",
   "id": "9f27ae54",
   "metadata": {
    "papermill": {
     "duration": 0.03456,
     "end_time": "2023-04-25T09:44:34.481671",
     "exception": false,
     "start_time": "2023-04-25T09:44:34.447111",
     "status": "completed"
    },
    "tags": []
   },
   "source": [
    "<h4 id=\"sub_section2_2\">ii. Logistic Regression</h4>"
   ]
  },
  {
   "cell_type": "code",
   "execution_count": null,
   "id": "7af282da",
   "metadata": {
    "execution": {
     "iopub.execute_input": "2023-04-25T09:44:34.553023Z",
     "iopub.status.busy": "2023-04-25T09:44:34.552016Z",
     "iopub.status.idle": "2023-04-25T09:44:34.556412Z",
     "shell.execute_reply": "2023-04-25T09:44:34.555600Z"
    },
    "papermill": {
     "duration": 0.042275,
     "end_time": "2023-04-25T09:44:34.558473",
     "exception": false,
     "start_time": "2023-04-25T09:44:34.516198",
     "status": "completed"
    },
    "tags": []
   },
   "outputs": [],
   "source": [
    "# Importing Logistic Regression\n",
    "from sklearn.linear_model import LogisticRegression"
   ]
  },
  {
   "cell_type": "code",
   "execution_count": null,
   "id": "1788d602",
   "metadata": {
    "execution": {
     "iopub.execute_input": "2023-04-25T09:44:34.629984Z",
     "iopub.status.busy": "2023-04-25T09:44:34.628796Z",
     "iopub.status.idle": "2023-04-25T09:44:34.650283Z",
     "shell.execute_reply": "2023-04-25T09:44:34.648782Z"
    },
    "papermill": {
     "duration": 0.059949,
     "end_time": "2023-04-25T09:44:34.652850",
     "exception": false,
     "start_time": "2023-04-25T09:44:34.592901",
     "status": "completed"
    },
    "tags": []
   },
   "outputs": [],
   "source": [
    "# Creating instance of Logistic Regression\n",
    "log_reg = LogisticRegression()\n",
    "\n",
    "# Fitting the model\n",
    "log_reg.fit(train_x, train_y)\n",
    "\n",
    "# Predicting over the Test Set and calculating F1\n",
    "test_predict_log = log_reg.predict(test_x)\n",
    "k_log = f1_score(test_predict_log, test_y)\n",
    "\n",
    "print('Test F1 Score    ', k_log )"
   ]
  },
  {
   "cell_type": "code",
   "execution_count": null,
   "id": "66b86e70",
   "metadata": {
    "execution": {
     "iopub.execute_input": "2023-04-25T09:44:34.727450Z",
     "iopub.status.busy": "2023-04-25T09:44:34.726263Z",
     "iopub.status.idle": "2023-04-25T09:44:34.734472Z",
     "shell.execute_reply": "2023-04-25T09:44:34.733483Z"
    },
    "papermill": {
     "duration": 0.048312,
     "end_time": "2023-04-25T09:44:34.736729",
     "exception": false,
     "start_time": "2023-04-25T09:44:34.688417",
     "status": "completed"
    },
    "tags": []
   },
   "outputs": [],
   "source": [
    "submission_predictions_log = log_reg.predict(df_test_encoded.drop(['Name', 'Ticket', 'PassengerId'], axis=1))"
   ]
  },
  {
   "cell_type": "code",
   "execution_count": null,
   "id": "5cbc4bca",
   "metadata": {
    "execution": {
     "iopub.execute_input": "2023-04-25T09:44:34.808429Z",
     "iopub.status.busy": "2023-04-25T09:44:34.807583Z",
     "iopub.status.idle": "2023-04-25T09:44:34.816188Z",
     "shell.execute_reply": "2023-04-25T09:44:34.814998Z"
    },
    "papermill": {
     "duration": 0.047113,
     "end_time": "2023-04-25T09:44:34.818434",
     "exception": false,
     "start_time": "2023-04-25T09:44:34.771321",
     "status": "completed"
    },
    "tags": []
   },
   "outputs": [],
   "source": [
    "submission_predictions_log"
   ]
  },
  {
   "cell_type": "code",
   "execution_count": null,
   "id": "d45c1a60",
   "metadata": {
    "execution": {
     "iopub.execute_input": "2023-04-25T09:44:34.892027Z",
     "iopub.status.busy": "2023-04-25T09:44:34.891043Z",
     "iopub.status.idle": "2023-04-25T09:44:34.897847Z",
     "shell.execute_reply": "2023-04-25T09:44:34.896615Z"
    },
    "papermill": {
     "duration": 0.046187,
     "end_time": "2023-04-25T09:44:34.900410",
     "exception": false,
     "start_time": "2023-04-25T09:44:34.854223",
     "status": "completed"
    },
    "tags": []
   },
   "outputs": [],
   "source": [
    "# Combine predics with df_submission and save to csv\n",
    "df_submission['Survived'] = submission_predictions_log\n",
    "df_submission.to_csv('submission_log.csv', index=False)"
   ]
  },
  {
   "cell_type": "markdown",
   "id": "73266aea",
   "metadata": {
    "papermill": {
     "duration": 0.034657,
     "end_time": "2023-04-25T09:44:34.969702",
     "exception": false,
     "start_time": "2023-04-25T09:44:34.935045",
     "status": "completed"
    },
    "tags": []
   },
   "source": [
    "<h4 id=\"sub_section2_3\">iii. Decision Tree Classifier</h4>"
   ]
  },
  {
   "cell_type": "code",
   "execution_count": null,
   "id": "a266a8f5",
   "metadata": {
    "execution": {
     "iopub.execute_input": "2023-04-25T09:44:35.043159Z",
     "iopub.status.busy": "2023-04-25T09:44:35.041997Z",
     "iopub.status.idle": "2023-04-25T09:44:35.089949Z",
     "shell.execute_reply": "2023-04-25T09:44:35.089074Z"
    },
    "papermill": {
     "duration": 0.087396,
     "end_time": "2023-04-25T09:44:35.092579",
     "exception": false,
     "start_time": "2023-04-25T09:44:35.005183",
     "status": "completed"
    },
    "tags": []
   },
   "outputs": [],
   "source": [
    "# Importing Decision Tree Classifier\n",
    "from sklearn.tree import DecisionTreeClassifier"
   ]
  },
  {
   "cell_type": "code",
   "execution_count": null,
   "id": "77fddd5b",
   "metadata": {
    "execution": {
     "iopub.execute_input": "2023-04-25T09:44:35.166261Z",
     "iopub.status.busy": "2023-04-25T09:44:35.165043Z",
     "iopub.status.idle": "2023-04-25T09:44:35.180720Z",
     "shell.execute_reply": "2023-04-25T09:44:35.179453Z"
    },
    "papermill": {
     "duration": 0.054891,
     "end_time": "2023-04-25T09:44:35.183084",
     "exception": false,
     "start_time": "2023-04-25T09:44:35.128193",
     "status": "completed"
    },
    "tags": []
   },
   "outputs": [],
   "source": [
    "# Creating instance of Decision Tree Classifier\n",
    "clf = DecisionTreeClassifier()\n",
    "\n",
    "# Fitting the model\n",
    "clf.fit(train_x, train_y)\n",
    "\n",
    "# Predicting over the Test Set and calculating F1\n",
    "test_predict_dt = clf.predict(test_x)\n",
    "k_dt = f1_score(test_predict_dt, test_y)\n",
    "\n",
    "print('Test F1 Score    ', k_dt )"
   ]
  },
  {
   "cell_type": "code",
   "execution_count": null,
   "id": "b9d1294f",
   "metadata": {
    "execution": {
     "iopub.execute_input": "2023-04-25T09:44:35.255820Z",
     "iopub.status.busy": "2023-04-25T09:44:35.255049Z",
     "iopub.status.idle": "2023-04-25T09:44:35.263104Z",
     "shell.execute_reply": "2023-04-25T09:44:35.261967Z"
    },
    "papermill": {
     "duration": 0.047485,
     "end_time": "2023-04-25T09:44:35.265557",
     "exception": false,
     "start_time": "2023-04-25T09:44:35.218072",
     "status": "completed"
    },
    "tags": []
   },
   "outputs": [],
   "source": [
    "submission_predictions_dt = clf.predict(df_test_encoded.drop(['Name', 'Ticket', 'PassengerId'], axis=1))"
   ]
  },
  {
   "cell_type": "markdown",
   "id": "7dd5414a",
   "metadata": {
    "papermill": {
     "duration": 0.035623,
     "end_time": "2023-04-25T09:44:35.336015",
     "exception": false,
     "start_time": "2023-04-25T09:44:35.300392",
     "status": "completed"
    },
    "tags": []
   },
   "source": [
    "# "
   ]
  },
  {
   "cell_type": "code",
   "execution_count": null,
   "id": "e89d8b7d",
   "metadata": {
    "execution": {
     "iopub.execute_input": "2023-04-25T09:44:35.408937Z",
     "iopub.status.busy": "2023-04-25T09:44:35.408272Z",
     "iopub.status.idle": "2023-04-25T09:44:35.414487Z",
     "shell.execute_reply": "2023-04-25T09:44:35.413561Z"
    },
    "papermill": {
     "duration": 0.045521,
     "end_time": "2023-04-25T09:44:35.416604",
     "exception": false,
     "start_time": "2023-04-25T09:44:35.371083",
     "status": "completed"
    },
    "tags": []
   },
   "outputs": [],
   "source": [
    "# Combine predictions with df_submission and save to csv\n",
    "df_submission['Survived'] = submission_predictions_dt\n",
    "df_submission.to_csv('submission_dt.csv', index=False)"
   ]
  },
  {
   "cell_type": "markdown",
   "id": "315be26c",
   "metadata": {
    "papermill": {
     "duration": 0.034318,
     "end_time": "2023-04-25T09:44:35.485552",
     "exception": false,
     "start_time": "2023-04-25T09:44:35.451234",
     "status": "completed"
    },
    "tags": []
   },
   "source": [
    "<h4 id=\"sub_section2_4\">iv. MLPClassifier</h4>"
   ]
  },
  {
   "cell_type": "code",
   "execution_count": null,
   "id": "7af9bc91",
   "metadata": {
    "execution": {
     "iopub.execute_input": "2023-04-25T09:44:35.558245Z",
     "iopub.status.busy": "2023-04-25T09:44:35.557450Z",
     "iopub.status.idle": "2023-04-25T09:44:35.578790Z",
     "shell.execute_reply": "2023-04-25T09:44:35.577949Z"
    },
    "papermill": {
     "duration": 0.061074,
     "end_time": "2023-04-25T09:44:35.581734",
     "exception": false,
     "start_time": "2023-04-25T09:44:35.520660",
     "status": "completed"
    },
    "tags": []
   },
   "outputs": [],
   "source": [
    "# Importing MLPC Classifier\n",
    "from sklearn.neural_network import MLPClassifier"
   ]
  },
  {
   "cell_type": "code",
   "execution_count": null,
   "id": "a6455ea2",
   "metadata": {
    "execution": {
     "iopub.execute_input": "2023-04-25T09:44:35.656185Z",
     "iopub.status.busy": "2023-04-25T09:44:35.654976Z",
     "iopub.status.idle": "2023-04-25T09:44:36.929625Z",
     "shell.execute_reply": "2023-04-25T09:44:36.927896Z"
    },
    "papermill": {
     "duration": 1.316467,
     "end_time": "2023-04-25T09:44:36.933989",
     "exception": false,
     "start_time": "2023-04-25T09:44:35.617522",
     "status": "completed"
    },
    "tags": []
   },
   "outputs": [],
   "source": [
    "# Creating instance of MLPC Classifier\n",
    "clf = MLPClassifier()\n",
    "\n",
    "# Fitting the model\n",
    "clf.fit(train_x, train_y)\n",
    "\n",
    "# Predicting over the Test Set and calculating F1\n",
    "test_predict_mlpc = clf.predict(test_x)\n",
    "k_mlpc = f1_score(test_predict_mlpc, test_y)\n",
    "\n",
    "print('Test F1 Score    ', k_mlpc )"
   ]
  },
  {
   "cell_type": "code",
   "execution_count": null,
   "id": "b0e2a9d3",
   "metadata": {
    "execution": {
     "iopub.execute_input": "2023-04-25T09:44:37.079586Z",
     "iopub.status.busy": "2023-04-25T09:44:37.079164Z",
     "iopub.status.idle": "2023-04-25T09:44:37.090588Z",
     "shell.execute_reply": "2023-04-25T09:44:37.088978Z"
    },
    "papermill": {
     "duration": 0.070598,
     "end_time": "2023-04-25T09:44:37.094877",
     "exception": false,
     "start_time": "2023-04-25T09:44:37.024279",
     "status": "completed"
    },
    "tags": []
   },
   "outputs": [],
   "source": [
    "submission_predictions_mlpc = clf.predict(df_test_encoded.drop(['Name', 'Ticket', 'PassengerId'], axis=1))"
   ]
  },
  {
   "cell_type": "code",
   "execution_count": null,
   "id": "2b7de8c5",
   "metadata": {
    "execution": {
     "iopub.execute_input": "2023-04-25T09:44:37.235863Z",
     "iopub.status.busy": "2023-04-25T09:44:37.235427Z",
     "iopub.status.idle": "2023-04-25T09:44:37.242526Z",
     "shell.execute_reply": "2023-04-25T09:44:37.241406Z"
    },
    "papermill": {
     "duration": 0.062669,
     "end_time": "2023-04-25T09:44:37.244815",
     "exception": false,
     "start_time": "2023-04-25T09:44:37.182146",
     "status": "completed"
    },
    "tags": []
   },
   "outputs": [],
   "source": [
    "# Combine predictions with df_submission and save to csv\n",
    "df_submission['Survived'] = submission_predictions_mlpc\n",
    "df_submission.to_csv('submission_mlpc.csv', index=False)"
   ]
  },
  {
   "cell_type": "code",
   "execution_count": null,
   "id": "2a9705ac",
   "metadata": {
    "papermill": {
     "duration": 0.034768,
     "end_time": "2023-04-25T09:44:37.314411",
     "exception": false,
     "start_time": "2023-04-25T09:44:37.279643",
     "status": "completed"
    },
    "tags": []
   },
   "outputs": [],
   "source": []
  }
 ],
 "metadata": {
  "kernelspec": {
   "display_name": "Python 3",
   "language": "python",
   "name": "python3"
  },
  "language_info": {
   "codemirror_mode": {
    "name": "ipython",
    "version": 3
   },
   "file_extension": ".py",
   "mimetype": "text/x-python",
   "name": "python",
   "nbconvert_exporter": "python",
   "pygments_lexer": "ipython3",
   "version": "3.9.13"
  },
  "papermill": {
   "default_parameters": {},
   "duration": 27.208427,
   "end_time": "2023-04-25T09:44:38.172530",
   "environment_variables": {},
   "exception": null,
   "input_path": "__notebook__.ipynb",
   "output_path": "__notebook__.ipynb",
   "parameters": {},
   "start_time": "2023-04-25T09:44:10.964103",
   "version": "2.4.0"
  }
 },
 "nbformat": 4,
 "nbformat_minor": 5
}
